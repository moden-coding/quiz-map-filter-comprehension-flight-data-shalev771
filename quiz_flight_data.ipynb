{
  "cells": [
    {
      "cell_type": "markdown",
      "id": "c5d33370",
      "metadata": {
        "id": "c5d33370"
      },
      "source": [
        "\n",
        "#Flight Departure Sample (On‑Time & Delays)\n",
        "**Instructions:**  \n",
        "- You will work directly in this notebook.  \n",
        "- For each task, write *both* your code **and** a short explanation of how your code works (1–3 sentences).  \n",
        "- Keep your answers in the provided `# TODO` cells. Do not delete the original dataset cells.\n",
        "\n",
        "---\n"
      ]
    },
    {
      "cell_type": "markdown",
      "id": "397fd34c",
      "metadata": {
        "id": "397fd34c"
      },
      "source": [
        "**Dataset:** A small, realistic sample inspired by U.S. domestic flight records. Fields per record:  \n",
        "`flight_id, airline, origin, dest, dep_delay_minutes, arr_delay_minutes, distance_miles`\n",
        "\n",
        "> A negative delay means the plane **departed/arrived early**. An on-time arrival is defined as `arr_delay_minutes ≤ 0`.\n"
      ]
    },
    {
      "cell_type": "code",
      "execution_count": null,
      "id": "0662cb00",
      "metadata": {
        "id": "0662cb00"
      },
      "outputs": [],
      "source": [
        "\n",
        "# ----- DATA: Flights -----\n",
        "flights = [\n",
        "   (101, \"DL\", \"BOS\", \"ATL\",  15,  -2,   946),\n",
        "    (102, \"DL\", \"BOS\", \"DTW\",  -3,  -5,   632),\n",
        "    (111, \"DL\", \"ATL\", \"MIA\",  25,  18,   594),\n",
        "    (112, \"DL\", \"LAX\", \"JFK\", -5,   45,  2475),\n",
        "    (103, \"AA\", \"JFK\", \"CLT\",  40,  35,   541),\n",
        "    (104, \"AA\", \"LGA\", \"ORD\",  -7, -10,   733),\n",
        "    (113, \"AA\", \"DFW\", \"LAX\",  12,   5,  1235),\n",
        "    (114, \"AA\", \"PHL\", \"MIA\",  60,  75,  1013),\n",
        "    (105, \"UA\", \"EWR\", \"DEN\",  52,  60,  1605),\n",
        "    (106, \"UA\", \"BOS\", \"IAD\",   5,  -3,   413),\n",
        "    (115, \"UA\", \"ORD\", \"SFO\",  30,  25,  1846),\n",
        "    (116, \"UA\", \"LAX\", \"HNL\", -15,  40,  2556),\n",
        "    (107, \"B6\", \"JFK\", \"MCO\",  28,  22,   944),\n",
        "    (108, \"B6\", \"BOS\", \"FLL\",  -2,  -8,  1240),\n",
        "    (117, \"B6\", \"FLL\", \"AUS\",  20,  15,  1105),\n",
        "    (118, \"B6\", \"LAX\", \"BOS\",  55,  50,  2611),\n",
        "    (109, \"WN\", \"BOS\", \"BWI\",  12,  -1,   369),\n",
        "    (110, \"WN\", \"BOS\", \"MDW\",  20,  18,   853),\n",
        "    (119, \"WN\", \"DAL\", \"HOU\",   5,   0,    239),\n",
        "    (120, \"WN\", \"PHX\", \"LAS\", -12, -15,   255),\n",
        "]\n",
        "len(flights), flights[:3]\n"
      ]
    },
    {
      "cell_type": "markdown",
      "id": "780967e5",
      "metadata": {
        "id": "780967e5"
      },
      "source": [
        "\n",
        "## Tasks (answer all)\n",
        "1. **On-time flights:** Create a list **on_time_ids** of flight IDs where the arrival delay (arr_delay_min) is ≤ 0. The list might look like: [212, 251,...], but with the appropriate flight numbers from the data above."
      ]
    },
    {
      "cell_type": "code",
      "execution_count": null,
      "id": "Tm5B0JEAOB3q",
      "metadata": {
        "id": "Tm5B0JEAOB3q"
      },
      "outputs": [],
      "source": [
        "on_time_ids = []\n",
        "for flight in flights:\n",
        "on_time_ids = [flight[0] for flight in flights if flight[5] <= 0]\n",
        "\n"
      ]
    },
    {
      "cell_type": "code",
      "execution_count": null,
      "id": "22028246",
      "metadata": {},
      "outputs": [],
      "source": [
        "print (on_time_ids)\n"
      ]
    },
    {
      "cell_type": "code",
      "execution_count": null,
      "id": "5cIDOSKnOCLh",
      "metadata": {
        "id": "5cIDOSKnOCLh"
      },
      "outputs": [],
      "source": []
    },
    {
      "cell_type": "markdown",
      "id": "VPRLDvH1OD0y",
      "metadata": {
        "id": "VPRLDvH1OD0y"
      },
      "source": [
        "2.  **Worst flights ever**: Create a list `red_eye_misery` of (origin, destination, dep_delay_min, arr_delay_min, distance_miles) for flights that are the worst of both worlds:\n",
        "\n",
        "*   They are long-haul flights (distance_miles >= 1500),\n",
        "*   They depart early (dep_delay_min < 0), but\n",
        "*   Still arrive late (arr_delay_min > 0).\n",
        "\n",
        "The result should be a list of tuples."
      ]
    },
    {
      "cell_type": "code",
      "execution_count": null,
      "id": "Xejx774VU4oI",
      "metadata": {
        "id": "Xejx774VU4oI"
      },
      "outputs": [],
      "source": [
        "red_eye_misery = []\n",
        "red_eye_misery = [flight[0] for flight in flights if flight[6] >= 1500]\n",
        "red_eye_misery = [flight[1][3]]\n",
        "print (red_eye_ids) "
      ]
    },
    {
      "cell_type": "markdown",
      "id": "1z25_dSnOEKq",
      "metadata": {
        "id": "1z25_dSnOEKq"
      },
      "source": [
        "3. **Late arrivals:** Build a dictionary `late_flight` mapping flight_id -> {\"long\": bool, \"ontime\": bool} where:\n",
        "*   `\"long\"` is `True` if the flight distance is ≥ 1500 miles\n",
        "*  `\"ontime\"` is `True` if the flight arrived on time (`arr_delay_min` <= 0)\n",
        "\n",
        "\n",
        "\n"
      ]
    },
    {
      "cell_type": "code",
      "execution_count": null,
      "id": "I_Bn6QU-OEZA",
      "metadata": {
        "id": "I_Bn6QU-OEZA"
      },
      "outputs": [],
      "source": [
        "late_flights = []\n",
        "for flight in flights:\n",
        "\tif flight[5] <= 0:\n",
        "\t\tlate_flights.append(flight[0])\n",
        "print(f\"flight\"{flight[0]} \"on time\")\n",
        "else:\n",
        "print(f\"late\")\n",
        "if flight[6] >= 1500: \n",
        "\tprint (f\"long {flight[0]}\")\n"
      ]
    }
  ],
  "metadata": {
    "colab": {
      "provenance": []
    },
    "kernelspec": {
      "display_name": "Python 3",
      "name": "python3"
    },
    "language_info": {
      "name": "python"
    }
  },
  "nbformat": 4,
  "nbformat_minor": 5
}
